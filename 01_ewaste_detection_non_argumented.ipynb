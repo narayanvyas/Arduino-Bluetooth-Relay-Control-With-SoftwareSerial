{
  "nbformat": 4,
  "nbformat_minor": 0,
  "metadata": {
    "colab": {
      "name": "01_ewaste_detection_non_argumented.ipynb",
      "provenance": [],
      "collapsed_sections": [],
      "mount_file_id": "17LVHTXrnWQGrmEvJg4wlW7PkI0d4dq5J",
      "authorship_tag": "ABX9TyMsbtYqAlIHI5vJ/OL1OuVl",
      "include_colab_link": true
    },
    "kernelspec": {
      "name": "python3",
      "display_name": "Python 3"
    },
    "language_info": {
      "name": "python"
    },
    "accelerator": "GPU"
  },
  "cells": [
    {
      "cell_type": "markdown",
      "metadata": {
        "id": "view-in-github",
        "colab_type": "text"
      },
      "source": [
        "<a href=\"https://colab.research.google.com/github/narayanvyas/Arduino-Bluetooth-Relay-Control-With-SoftwareSerial/blob/master/01_ewaste_detection_non_argumented.ipynb\" target=\"_parent\"><img src=\"https://colab.research.google.com/assets/colab-badge.svg\" alt=\"Open In Colab\"/></a>"
      ]
    },
    {
      "cell_type": "markdown",
      "source": [
        "Load Helper Functions"
      ],
      "metadata": {
        "id": "GH3xfVsSsv2y"
      }
    },
    {
      "cell_type": "code",
      "source": [
        "pip install split-folders"
      ],
      "metadata": {
        "colab": {
          "base_uri": "https://localhost:8080/"
        },
        "id": "ikA2LNsYuisT",
        "outputId": "80ed1666-fbcb-4a92-ad31-b6cf579a405b"
      },
      "execution_count": 2,
      "outputs": [
        {
          "output_type": "stream",
          "name": "stdout",
          "text": [
            "Collecting split-folders\n",
            "  Downloading split_folders-0.4.3-py3-none-any.whl (7.4 kB)\n",
            "Installing collected packages: split-folders\n",
            "Successfully installed split-folders-0.4.3\n"
          ]
        }
      ]
    },
    {
      "cell_type": "code",
      "execution_count": 3,
      "metadata": {
        "colab": {
          "base_uri": "https://localhost:8080/"
        },
        "id": "XXwY6buUsBAI",
        "outputId": "50d4e11e-dca8-42ea-ed8a-b0f655e06d8e"
      },
      "outputs": [
        {
          "output_type": "stream",
          "name": "stdout",
          "text": [
            "--2021-12-12 04:56:01--  https://raw.githubusercontent.com/narayanvyas/ml-helper/master/helper_functions.py\n",
            "Resolving raw.githubusercontent.com (raw.githubusercontent.com)... 185.199.109.133, 185.199.110.133, 185.199.111.133, ...\n",
            "Connecting to raw.githubusercontent.com (raw.githubusercontent.com)|185.199.109.133|:443... connected.\n",
            "HTTP request sent, awaiting response... 200 OK\n",
            "Length: 11081 (11K) [text/plain]\n",
            "Saving to: ‘helper_functions.py’\n",
            "\n",
            "\rhelper_functions.py   0%[                    ]       0  --.-KB/s               \rhelper_functions.py 100%[===================>]  10.82K  --.-KB/s    in 0s      \n",
            "\n",
            "2021-12-12 04:56:01 (50.4 MB/s) - ‘helper_functions.py’ saved [11081/11081]\n",
            "\n"
          ]
        }
      ],
      "source": [
        "# Load the functions from helper.py\n",
        "\n",
        "!wget https://raw.githubusercontent.com/narayanvyas/ml-helper/master/helper_functions.py\n",
        "\n",
        "from helper_functions import pred_and_plot, create_tensorboard_callback,make_confusion_matrix, plot_loss_curves, getClassNames, walk_through_dir, compare_historys, unzip_data, unzip_data, calculate_results, removeData"
      ]
    },
    {
      "cell_type": "markdown",
      "source": [
        "Initialize Global Variables"
      ],
      "metadata": {
        "id": "hlasXAejstOU"
      }
    },
    {
      "cell_type": "code",
      "source": [
        "rootPath = '/content/drive/MyDrive/'\n",
        "folderName = 'spares_processed'\n",
        "\n",
        "\n",
        "inputFolder = folderName\n",
        "# outputFolder = folderName\n",
        "outputFolder = folderName + '_splitted'\n",
        "\n",
        "train_dir = outputFolder + '/train/'\n",
        "test_dir = outputFolder + '/test/'\n",
        "\n",
        "trainingRatio = 0.9\n",
        "testRatio = 0.1\n",
        "validationRatio = 0.0\n",
        "\n",
        "batchSize = 32\n",
        "epochs = 5\n",
        "imgSize = (224, 224)"
      ],
      "metadata": {
        "id": "HRMQymDTsyNb"
      },
      "execution_count": 1,
      "outputs": []
    },
    {
      "cell_type": "code",
      "source": [
        "unzip_data(rootPath + folderName + '.zip')"
      ],
      "metadata": {
        "id": "6px383tCtbIn"
      },
      "execution_count": 4,
      "outputs": []
    },
    {
      "cell_type": "code",
      "source": [
        "walk_through_dir(folderName)"
      ],
      "metadata": {
        "colab": {
          "base_uri": "https://localhost:8080/"
        },
        "id": "z87eH-wJtr9a",
        "outputId": "e62e6fd7-b7bc-43d2-b37c-141e9823ed49"
      },
      "execution_count": 5,
      "outputs": [
        {
          "output_type": "stream",
          "name": "stdout",
          "text": [
            "There are 11 directories and 1 images in 'spares_processed'.\n",
            "There are 0 directories and 210 images in 'spares_processed/RAM'.\n",
            "There are 0 directories and 233 images in 'spares_processed/USB'.\n",
            "There are 0 directories and 228 images in 'spares_processed/Keyboard'.\n",
            "There are 0 directories and 285 images in 'spares_processed/Speakers'.\n",
            "There are 0 directories and 283 images in 'spares_processed/Optical Disk Drive'.\n",
            "There are 0 directories and 288 images in 'spares_processed/PSU'.\n",
            "There are 0 directories and 296 images in 'spares_processed/Fan'.\n",
            "There are 0 directories and 272 images in 'spares_processed/Hard Disk'.\n",
            "There are 0 directories and 291 images in 'spares_processed/Motherboard'.\n",
            "There are 0 directories and 269 images in 'spares_processed/Monitor'.\n",
            "There are 0 directories and 269 images in 'spares_processed/Mouse'.\n"
          ]
        }
      ]
    },
    {
      "cell_type": "code",
      "source": [
        "import splitfolders\n",
        "\n",
        "splitfolders.ratio(inputFolder, output=outputFolder, seed=42, ratio=(trainingRatio, validationRatio, testRatio))"
      ],
      "metadata": {
        "colab": {
          "base_uri": "https://localhost:8080/"
        },
        "id": "wx6Bxpomt1s4",
        "outputId": "a122741e-de44-4810-c2f8-9879119b3bfc"
      },
      "execution_count": 6,
      "outputs": [
        {
          "output_type": "stream",
          "name": "stderr",
          "text": [
            "Copying files: 2924 files [00:00, 5716.85 files/s]\n"
          ]
        }
      ]
    },
    {
      "cell_type": "code",
      "source": [
        "import tensorflow as tf\n",
        "\n",
        "# Load data in from directories and turn it into batches\n",
        "train_data = tf.keras.preprocessing.image_dataset_from_directory(directory=train_dir,\n",
        "                                                                            image_size=imgSize,\n",
        "                                                                            label_mode=\"categorical\",\n",
        "                                                                            batch_size=batchSize)\n",
        "test_data = tf.keras.preprocessing.image_dataset_from_directory(directory=test_dir,\n",
        "                                                                           image_size=imgSize,\n",
        "                                                                           label_mode=\"categorical\")"
      ],
      "metadata": {
        "colab": {
          "base_uri": "https://localhost:8080/"
        },
        "id": "7I5AF5kRvlKw",
        "outputId": "cb820be1-b96e-4de6-ff17-a58f77e6795c"
      },
      "execution_count": 7,
      "outputs": [
        {
          "output_type": "stream",
          "name": "stdout",
          "text": [
            "Found 2625 files belonging to 11 classes.\n",
            "Found 297 files belonging to 11 classes.\n"
          ]
        }
      ]
    },
    {
      "cell_type": "code",
      "source": [
        "# from tensorflow.keras.preprocessing.image import ImageDataGenerator\n",
        "\n",
        "# # Rescale the data and create data generator instances\n",
        "# train_datagen = ImageDataGenerator(rescale=1/255.)\n",
        "# test_datagen = ImageDataGenerator(rescale=1/255.)\n",
        "\n",
        "# # Load data in from directories and turn it into batches\n",
        "# train_data = train_datagen.flow_from_directory(train_dir,\n",
        "#                                                target_size=imgSize,\n",
        "#                                                batch_size=batchSize,\n",
        "#                                                class_mode='categorical') # changed to categorical\n",
        "\n",
        "# test_data = train_datagen.flow_from_directory(test_dir,\n",
        "#                                               target_size=imgSize,\n",
        "#                                               batch_size=batchSize,\n",
        "#                                               class_mode='categorical')"
      ],
      "metadata": {
        "colab": {
          "base_uri": "https://localhost:8080/"
        },
        "id": "odSINhIa58Ps",
        "outputId": "d17a245d-bf8d-45ed-f4ab-d1b616b1d651"
      },
      "execution_count": 153,
      "outputs": [
        {
          "output_type": "stream",
          "name": "stdout",
          "text": [
            "Found 2429 images belonging to 9 classes.\n",
            "Found 270 images belonging to 9 classes.\n"
          ]
        }
      ]
    },
    {
      "cell_type": "code",
      "source": [
        "\n",
        "class_names = train_data.class_names\n",
        "class_names"
      ],
      "metadata": {
        "id": "IpehTlYqvDTk"
      },
      "execution_count": 8,
      "outputs": []
    },
    {
      "cell_type": "code",
      "source": [
        "# Create augmented data generator instance\n",
        "from tensorflow.keras.preprocessing.image import ImageDataGenerator\n",
        "train_datagen_augmented = ImageDataGenerator(rescale=1/255.,\n",
        "                                             rotation_range=20, # note: this is an int not a float\n",
        "                                             width_shift_range=0.2,\n",
        "                                             height_shift_range=0.2,\n",
        "                                             zoom_range=0.2,\n",
        "                                             horizontal_flip=True)\n",
        "\n",
        "train_data_augmented = train_datagen_augmented.flow_from_directory(train_dir,\n",
        "                                                                  target_size=imgSize,\n",
        "                                                                  batch_size=batchSize,\n",
        "                                                                  class_mode='categorical')"
      ],
      "metadata": {
        "colab": {
          "base_uri": "https://localhost:8080/"
        },
        "id": "VtIzFsOOvrdz",
        "outputId": "20213754-5082-448d-b4d6-db6da5963462"
      },
      "execution_count": 54,
      "outputs": [
        {
          "output_type": "stream",
          "name": "stdout",
          "text": [
            "Found 1619 images belonging to 6 classes.\n"
          ]
        }
      ]
    },
    {
      "cell_type": "code",
      "source": [
        "import tensorflow as tf\n",
        "from tensorflow.keras.models import Sequential\n",
        "from tensorflow.keras.layers import Conv2D, MaxPool2D, Flatten, Dense\n",
        "\n",
        "model = Sequential([\n",
        "  Conv2D(10, 3, activation='relu', input_shape=(224, 224, 3)),\n",
        "  Conv2D(10, 3, activation='relu'),\n",
        "  MaxPool2D(),\n",
        "  Conv2D(10, 3, activation='relu'),\n",
        "  Conv2D(10, 3, activation='relu'),\n",
        "  MaxPool2D(),\n",
        "  Flatten(),\n",
        "  Dense(len(class_names), activation='softmax')\n",
        "])\n",
        "\n",
        "model.compile(loss='categorical_crossentropy',\n",
        "                 optimizer=tf.keras.optimizers.Adam(),\n",
        "                 metrics=['accuracy'])\n",
        "\n",
        "model.summary()"
      ],
      "metadata": {
        "id": "rLDCRzTsvudb",
        "colab": {
          "base_uri": "https://localhost:8080/"
        },
        "outputId": "bb6221aa-a375-4cb9-db96-a291d53be112"
      },
      "execution_count": 9,
      "outputs": [
        {
          "output_type": "stream",
          "name": "stdout",
          "text": [
            "Model: \"sequential\"\n",
            "_________________________________________________________________\n",
            " Layer (type)                Output Shape              Param #   \n",
            "=================================================================\n",
            " conv2d (Conv2D)             (None, 222, 222, 10)      280       \n",
            "                                                                 \n",
            " conv2d_1 (Conv2D)           (None, 220, 220, 10)      910       \n",
            "                                                                 \n",
            " max_pooling2d (MaxPooling2D  (None, 110, 110, 10)     0         \n",
            " )                                                               \n",
            "                                                                 \n",
            " conv2d_2 (Conv2D)           (None, 108, 108, 10)      910       \n",
            "                                                                 \n",
            " conv2d_3 (Conv2D)           (None, 106, 106, 10)      910       \n",
            "                                                                 \n",
            " max_pooling2d_1 (MaxPooling  (None, 53, 53, 10)       0         \n",
            " 2D)                                                             \n",
            "                                                                 \n",
            " flatten (Flatten)           (None, 28090)             0         \n",
            "                                                                 \n",
            " dense (Dense)               (None, 11)                309001    \n",
            "                                                                 \n",
            "=================================================================\n",
            "Total params: 312,011\n",
            "Trainable params: 312,011\n",
            "Non-trainable params: 0\n",
            "_________________________________________________________________\n"
          ]
        }
      ]
    },
    {
      "cell_type": "code",
      "source": [
        "history = model.fit(train_data,\n",
        "                          epochs=epochs,\n",
        "                          steps_per_epoch=len(train_data),\n",
        "                          validation_data=test_data,\n",
        "                          validation_steps=len(test_data),\n",
        "                          callbacks=[create_tensorboard_callback(\"ewaste_detection\", \"base_model_non_argumented_data\")])"
      ],
      "metadata": {
        "colab": {
          "base_uri": "https://localhost:8080/"
        },
        "id": "UYfX9QI2vwGm",
        "outputId": "50c8972c-5c98-4ef7-901b-b1f27d2ceffa"
      },
      "execution_count": 11,
      "outputs": [
        {
          "output_type": "stream",
          "name": "stdout",
          "text": [
            "Saving TensorBoard log files to: ewaste_detection/base_model_non_argumented_data/20211212-045736\n",
            "Epoch 1/5\n",
            "83/83 [==============================] - 16s 58ms/step - loss: 47.2700 - accuracy: 0.1474 - val_loss: 2.5411 - val_accuracy: 0.1953\n",
            "Epoch 2/5\n",
            "83/83 [==============================] - 5s 55ms/step - loss: 1.8420 - accuracy: 0.3909 - val_loss: 2.3958 - val_accuracy: 0.2189\n",
            "Epoch 3/5\n",
            "83/83 [==============================] - 5s 54ms/step - loss: 1.1445 - accuracy: 0.6495 - val_loss: 2.4894 - val_accuracy: 0.2458\n",
            "Epoch 4/5\n",
            "83/83 [==============================] - 5s 53ms/step - loss: 0.5957 - accuracy: 0.8503 - val_loss: 2.8837 - val_accuracy: 0.2626\n",
            "Epoch 5/5\n",
            "83/83 [==============================] - 5s 53ms/step - loss: 0.2828 - accuracy: 0.9451 - val_loss: 3.2315 - val_accuracy: 0.2727\n"
          ]
        }
      ]
    },
    {
      "cell_type": "code",
      "source": [
        "plot_loss_curves(history)"
      ],
      "metadata": {
        "colab": {
          "base_uri": "https://localhost:8080/",
          "height": 573
        },
        "id": "wLknhN40vyYi",
        "outputId": "cdd0b16c-736f-404d-b523-ba8b61314c23"
      },
      "execution_count": 12,
      "outputs": [
        {
          "output_type": "display_data",
          "data": {
            "image/png": "[encoded data removed]",
            "text/plain": [
              "<Figure size 432x288 with 1 Axes>"
            ]
          },
          "metadata": {
            "needs_background": "light"
          }
        },
        {
          "output_type": "display_data",
          "data": {
            "image/png": "[encoded data removed]",
            "text/plain": [
              "<Figure size 432x288 with 1 Axes>"
            ]
          },
          "metadata": {
            "needs_background": "light"
          }
        }
      ]
    },
    {
      "cell_type": "code",
      "source": [
        "\n",
        "# Make predictions with model\n",
        "pred_probs = model.predict(test_data, verbose=1) # set verbosity to see how long it will take "
      ],
      "metadata": {
        "id": "JzyaFAHM8ra1",
        "colab": {
          "base_uri": "https://localhost:8080/"
        },
        "outputId": "cff78649-2735-4d11-b132-13778299a0f3"
      },
      "execution_count": 13,
      "outputs": [
        {
          "output_type": "stream",
          "name": "stdout",
          "text": [
            "10/10 [==============================] - 1s 15ms/step\n"
          ]
        }
      ]
    },
    {
      "cell_type": "code",
      "source": [
        "# Get the class predicitons of each label\n",
        "pred_classes = pred_probs.argmax(axis=1)\n",
        "\n",
        "y_labels = []\n",
        "for images, labels in test_data.unbatch(): # unbatch the test data and get images and labels\n",
        "  y_labels.append(labels.numpy().argmax()) # append the index which has the largest value (labels are one-hot)\n",
        "y_labels[:10] # check what they look like (unshuffled)"
      ],
      "metadata": {
        "colab": {
          "base_uri": "https://localhost:8080/"
        },
        "id": "db8EWZZYGP4B",
        "outputId": "bd3cce73-c388-4e38-acec-55cff3aae410"
      },
      "execution_count": 16,
      "outputs": [
        {
          "output_type": "execute_result",
          "data": {
            "text/plain": [
              "[6, 7, 8, 3, 9, 3, 4, 4, 5, 8]"
            ]
          },
          "metadata": {},
          "execution_count": 16
        }
      ]
    },
    {
      "cell_type": "code",
      "source": [
        "# Get the class names\n",
        "class_names = test_data.class_names\n",
        "class_names"
      ],
      "metadata": {
        "colab": {
          "base_uri": "https://localhost:8080/"
        },
        "id": "ZBWyaiX6Vwc_",
        "outputId": "8c479f15-da73-4c6f-c9ee-18535e777a37"
      },
      "execution_count": 146,
      "outputs": [
        {
          "output_type": "execute_result",
          "data": {
            "text/plain": [
              "['Fan',\n",
              " 'Hard Disk',\n",
              " 'Monitor',\n",
              " 'Motherboard',\n",
              " 'Mouse',\n",
              " 'Optical Disk Drive',\n",
              " 'PSU',\n",
              " 'RAM',\n",
              " 'Speakers']"
            ]
          },
          "metadata": {},
          "execution_count": 146
        }
      ]
    },
    {
      "cell_type": "code",
      "source": [
        "from sklearn.metrics import classification_report\n",
        "print(classification_report(y_labels, pred_classes))"
      ],
      "metadata": {
        "colab": {
          "base_uri": "https://localhost:8080/"
        },
        "id": "S-t-GHutW8gC",
        "outputId": "ec698f1e-0f88-490c-d2b2-e1f5ada40f87"
      },
      "execution_count": 17,
      "outputs": [
        {
          "output_type": "stream",
          "name": "stdout",
          "text": [
            "              precision    recall  f1-score   support\n",
            "\n",
            "           0       0.06      0.03      0.04        30\n",
            "           1       0.11      0.14      0.12        28\n",
            "           2       0.05      0.09      0.07        23\n",
            "           3       0.05      0.07      0.06        27\n",
            "           4       0.13      0.07      0.09        30\n",
            "           5       0.06      0.04      0.04        27\n",
            "           6       0.00      0.00      0.00        29\n",
            "           7       0.05      0.03      0.04        29\n",
            "           8       0.07      0.14      0.09        21\n",
            "           9       0.09      0.07      0.08        29\n",
            "          10       0.12      0.08      0.10        24\n",
            "\n",
            "    accuracy                           0.07       297\n",
            "   macro avg       0.07      0.07      0.07       297\n",
            "weighted avg       0.07      0.07      0.07       297\n",
            "\n"
          ]
        }
      ]
    },
    {
      "cell_type": "code",
      "source": [
        "# View tensorboard logs of transfer learning modelling experiments (should be 4 models)\n",
        "# Upload TensorBoard dev records\n",
        "!tensorboard dev upload --logdir ./ewaste_detectiony \\\n",
        "  --name \"eWaste Detection\" \\\n",
        "  --description \"A series of different ML Experiments for eWaste Detection\" \\\n",
        "  --one_shot # exits the uploader when upload has finished"
      ],
      "metadata": {
        "colab": {
          "base_uri": "https://localhost:8080/"
        },
        "id": "QXIUZuItAsUu",
        "outputId": "3dc50862-03f0-41f8-a1ff-1700164ca8e8"
      },
      "execution_count": 19,
      "outputs": [
        {
          "output_type": "stream",
          "name": "stdout",
          "text": [
            "\n",
            "***** TensorBoard Uploader *****\n",
            "\n",
            "This will upload your TensorBoard logs to https://tensorboard.dev/ from\n",
            "the following directory:\n",
            "\n",
            "./ewaste_detection\n",
            "\n",
            "This TensorBoard will be visible to everyone. Do not upload sensitive\n",
            "data.\n",
            "\n",
            "Your use of this service is subject to Google's Terms of Service\n",
            "<https://policies.google.com/terms> and Privacy Policy\n",
            "<https://policies.google.com/privacy>, and TensorBoard.dev's Terms of Service\n",
            "<https://tensorboard.dev/policy/terms/>.\n",
            "\n",
            "This notice will not be shown again while you are logged into the uploader.\n",
            "To log out, run `tensorboard dev auth revoke`.\n",
            "\n",
            "Continue? (yes/NO) yes\n",
            "\n",
            "Please visit this URL to authorize this application: https://accounts.google.com/o/oauth2/auth?response_type=code&client_id=373649185512-8v619h5kft38l4456nm2dj4ubeqsrvh6.apps.googleusercontent.com&redirect_uri=urn%3Aietf%3Awg%3Aoauth%3A2.0%3Aoob&scope=openid+https%3A%2F%2Fwww.googleapis.com%2Fauth%2Fuserinfo.email&state=dyQ7DeLa4hHs6EKgib5qZ0b4UOHwcO&prompt=consent&access_type=offline\n",
            "Enter the authorization code: 4/1AX4XfWhxS8w0wpRCJ4uWa2v8tqJkc2Xu4wCMvO_y01_OF-TUgI85mTU-T78\n",
            "\n",
            "\n",
            "New experiment created. View your TensorBoard at: https://tensorboard.dev/experiment/ZMqI3JXKQHeBDiJE7m9YoA/\n",
            "\n",
            "\u001b[1m[2021-12-12T05:02:49]\u001b[0m Started scanning logdir.\n",
            "\u001b[1m[2021-12-12T05:02:50]\u001b[0m Total uploaded: 30 scalars, 0 tensors, 1 binary objects (52.0 kB)\n",
            "\u001b[1m[2021-12-12T05:02:50]\u001b[0m Done scanning logdir.\n",
            "\n",
            "\n",
            "Done. View your TensorBoard at https://tensorboard.dev/experiment/ZMqI3JXKQHeBDiJE7m9YoA/\n"
          ]
        }
      ]
    }
  ]
}