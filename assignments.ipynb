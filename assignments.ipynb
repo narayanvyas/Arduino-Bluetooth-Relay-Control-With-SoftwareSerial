{
  "nbformat": 4,
  "nbformat_minor": 0,
  "metadata": {
    "colab": {
      "name": "assignments.ipynb",
      "provenance": [],
      "authorship_tag": "ABX9TyNe5M+hPCZWi8EVCceIksnS",
      "include_colab_link": true
    },
    "kernelspec": {
      "name": "python3",
      "display_name": "Python 3"
    },
    "language_info": {
      "name": "python"
    }
  },
  "cells": [
    {
      "cell_type": "markdown",
      "metadata": {
        "id": "view-in-github",
        "colab_type": "text"
      },
      "source": [
        "<a href=\"https://colab.research.google.com/github/narayanvyas/Arduino-Bluetooth-Relay-Control-With-SoftwareSerial/blob/master/assignments.ipynb\" target=\"_parent\"><img src=\"https://colab.research.google.com/assets/colab-badge.svg\" alt=\"Open In Colab\"/></a>"
      ]
    },
    {
      "cell_type": "code",
      "metadata": {
        "colab": {
          "base_uri": "https://localhost:8080/"
        },
        "id": "U0xjv1jb8Qoi",
        "outputId": "0ebc7acb-8ea4-405f-ca39-91a47e02ec7d"
      },
      "source": [
        "a=[]\n",
        "print(a)"
      ],
      "execution_count": null,
      "outputs": [
        {
          "output_type": "stream",
          "name": "stdout",
          "text": [
            "[]\n"
          ]
        }
      ]
    },
    {
      "cell_type": "code",
      "metadata": {
        "colab": {
          "base_uri": "https://localhost:8080/"
        },
        "id": "4Qwp2SfA-gHV",
        "outputId": "444105cc-5272-4a6e-e8bf-a1cf98fdf5f8"
      },
      "source": [
        "L=[1,2,3,4]\n",
        "print(L[-2])"
      ],
      "execution_count": null,
      "outputs": [
        {
          "output_type": "stream",
          "name": "stdout",
          "text": [
            "3\n"
          ]
        }
      ]
    },
    {
      "cell_type": "code",
      "metadata": {
        "colab": {
          "base_uri": "https://localhost:8080/"
        },
        "id": "JzuoPsepL1LU",
        "outputId": "81ce5d54-6391-437f-d31a-503bae634e4f"
      },
      "source": [
        "# Find Area Of Circle\n",
        "\n",
        "from math import pi\n",
        "\n",
        "r = float(input('Enter Radius: '))\n",
        "area = round((pi * r * r), 3)\n",
        "print('Area of Circle is ' + str(area))\n"
      ],
      "execution_count": null,
      "outputs": [
        {
          "output_type": "stream",
          "name": "stdout",
          "text": [
            "Enter Radius: 3\n",
            "Area of Circle is: 28.274\n"
          ]
        }
      ]
    },
    {
      "cell_type": "code",
      "metadata": {
        "colab": {
          "base_uri": "https://localhost:8080/"
        },
        "id": "yS-yXLoML1V6",
        "outputId": "182f19e7-a4bb-48e2-ebc2-45de8de91d9a"
      },
      "source": [
        "# Take Input & Convert them to list and tuples\n",
        "\n",
        "numbers = input('Enter Some Comma Saperated Numbers: ')\n",
        "numbersList = numbers.split(',')\n",
        "numbersTuple = tuple(numbersList)\n",
        "\n",
        "print(numbersList)\n",
        "print(numbersTuple)"
      ],
      "execution_count": null,
      "outputs": [
        {
          "output_type": "stream",
          "name": "stdout",
          "text": [
            "Enter Some Comma Saperated Numbers: 1,2,2,2,3,4,5,6\n",
            "['1', '2', '2', '2', '3', '4', '5', '6']\n",
            "('1', '2', '2', '2', '3', '4', '5', '6')\n"
          ]
        }
      ]
    },
    {
      "cell_type": "code",
      "metadata": {
        "colab": {
          "base_uri": "https://localhost:8080/"
        },
        "id": "jB__AI7jODlo",
        "outputId": "d51724e4-a9ab-4e1f-beb6-583655ffd704"
      },
      "source": [
        "# Accept filename and print extendsion\n",
        "\n",
        "fileName = input('Enter Filename With Extension: ')\n",
        "dotCount = fileName.count('.')\n",
        "\n",
        "if(dotCount != 1):\n",
        "  print('Please Enter A Valid Filename')\n",
        "else:\n",
        "  ext = fileName.split('.')[-1]\n",
        "  print('Extension is .' + ext)"
      ],
      "execution_count": null,
      "outputs": [
        {
          "output_type": "stream",
          "name": "stdout",
          "text": [
            "Enter Filename With Extension: hey\n",
            "Please Enter A Valid Filename\n"
          ]
        }
      ]
    },
    {
      "cell_type": "code",
      "metadata": {
        "colab": {
          "base_uri": "https://localhost:8080/"
        },
        "id": "iUrcrKf4PGMx",
        "outputId": "e4fc25de-9081-4c7f-809c-630fa925a90a"
      },
      "source": [
        "# Display First and Last color\n",
        "\n",
        "fruits_list = [\"Apple\",\"Mango\",\"Cherry\" ,\"Banana\"]\n",
        "print('First fruit is ' + fruits_list[0])\n",
        "print('Last fruit is ' + fruits_list[-1])"
      ],
      "execution_count": null,
      "outputs": [
        {
          "output_type": "stream",
          "name": "stdout",
          "text": [
            "First fruit is Apple\n",
            "Last fruit is Banana\n"
          ]
        }
      ]
    },
    {
      "cell_type": "code",
      "metadata": {
        "colab": {
          "base_uri": "https://localhost:8080/"
        },
        "id": "C-eVONhlPkdR",
        "outputId": "2ee5f3e2-7c11-4587-a694-6bfcfac9e75f"
      },
      "source": [
        "# Square root of given number\n",
        "\n",
        "import math\n",
        "\n",
        "num = float(input('Enter A Number: '))\n",
        "sqr = round(math.sqrt(num), 3)\n",
        "print('Square root is ' + str(sqr))"
      ],
      "execution_count": null,
      "outputs": [
        {
          "output_type": "stream",
          "name": "stdout",
          "text": [
            "Enter A Number: 9\n",
            "Square root is 3.0\n"
          ]
        }
      ]
    },
    {
      "cell_type": "code",
      "metadata": {
        "colab": {
          "base_uri": "https://localhost:8080/"
        },
        "id": "y5HS7asIa9RX",
        "outputId": "d2c371c2-d1ab-4047-d2e5-1f9da1bc908d"
      },
      "source": [
        "# Area of Triangle\n",
        "a = float(input('Enter First Side: '))  \n",
        "b = float(input('Enter Second Side: '))  \n",
        "c = float(input('Enter Third Side: '))  \n",
        "  \n",
        "# calculate the semi-perimeter  \n",
        "s = (a + b + c) / 2  \n",
        "  \n",
        "# calculate the area  \n",
        "area = (s*(s-a)*(s-b)*(s-c)) ** 0.5  \n",
        "print('The area of the triangle is %0.2f' %area)   "
      ],
      "execution_count": null,
      "outputs": [
        {
          "output_type": "stream",
          "name": "stdout",
          "text": [
            "Enter First Side: 3\n",
            "Enter Second Side: 4\n",
            "Enter Third Side: 5\n",
            "The area of the triangle is 6.00\n"
          ]
        }
      ]
    },
    {
      "cell_type": "code",
      "metadata": {
        "colab": {
          "base_uri": "https://localhost:8080/"
        },
        "id": "yhsFEOBbbJ25",
        "outputId": "9aff8b04-7d61-4976-9b07-bd6bdb69f49b"
      },
      "source": [
        "# Swap two variables without using third variable\n",
        "\n",
        "num1 = int(input('Enter First Number: '))\n",
        "num2 = int(input('Enter Second Number: '))\n",
        "\n",
        "num2 = num1 + num2\n",
        "num1 = num2 - num1\n",
        "num2 = num2 - num1\n",
        "\n",
        "print('First Number is ' + str(num1) + ' and Second Number is ' + str(num2))"
      ],
      "execution_count": null,
      "outputs": [
        {
          "output_type": "stream",
          "name": "stdout",
          "text": [
            "Enter First Number: 24\n",
            "Enter Second Number: 87\n",
            "First Number is 87 and Second Number is 24\n"
          ]
        }
      ]
    },
    {
      "cell_type": "code",
      "metadata": {
        "colab": {
          "base_uri": "https://localhost:8080/"
        },
        "id": "paij26tXdF8f",
        "outputId": "ca046886-054b-40a9-eb79-8be382008ed5"
      },
      "source": [
        "# Convert temperature in celsius to fahrenheit\n",
        "\n",
        "celsius = float(input('Enter Temperature in Celsius: '))\n",
        "fahrenheit = (celsius * 1.8) + 32\n",
        "\n",
        "print('%0.1f\\N{DEGREE SIGN} Celsius is equal to %0.1f\\N{DEGREE SIGN} Fahrenheit' %(celsius, fahrenheit))"
      ],
      "execution_count": null,
      "outputs": [
        {
          "output_type": "stream",
          "name": "stdout",
          "text": [
            "Enter Temperature in Celsius: 37.5\n",
            "37.5° Celsius is equal to 99.5° Fahrenheit\n"
          ]
        }
      ]
    },
    {
      "cell_type": "code",
      "metadata": {
        "colab": {
          "base_uri": "https://localhost:8080/",
          "height": 215
        },
        "id": "8Vfa3IQ4dogh",
        "outputId": "6ea39ba5-1f8d-4820-acc4-446584451bfa"
      },
      "source": [
        "num = [1, 2, 3, 4]\n",
        "print(num.append(5))\n",
        "print(num.extend(5))"
      ],
      "execution_count": null,
      "outputs": [
        {
          "output_type": "stream",
          "name": "stdout",
          "text": [
            "None\n"
          ]
        },
        {
          "output_type": "error",
          "ename": "TypeError",
          "evalue": "ignored",
          "traceback": [
            "\u001b[0;31m---------------------------------------------------------------------------\u001b[0m",
            "\u001b[0;31mTypeError\u001b[0m                                 Traceback (most recent call last)",
            "\u001b[0;32m<ipython-input-47-60dac63e1575>\u001b[0m in \u001b[0;36m<module>\u001b[0;34m()\u001b[0m\n\u001b[1;32m      1\u001b[0m \u001b[0mnum\u001b[0m \u001b[0;34m=\u001b[0m \u001b[0;34m[\u001b[0m\u001b[0;36m1\u001b[0m\u001b[0;34m,\u001b[0m \u001b[0;36m2\u001b[0m\u001b[0;34m,\u001b[0m \u001b[0;36m3\u001b[0m\u001b[0;34m,\u001b[0m \u001b[0;36m4\u001b[0m\u001b[0;34m]\u001b[0m\u001b[0;34m\u001b[0m\u001b[0;34m\u001b[0m\u001b[0m\n\u001b[1;32m      2\u001b[0m \u001b[0mprint\u001b[0m\u001b[0;34m(\u001b[0m\u001b[0mnum\u001b[0m\u001b[0;34m.\u001b[0m\u001b[0mappend\u001b[0m\u001b[0;34m(\u001b[0m\u001b[0;36m5\u001b[0m\u001b[0;34m)\u001b[0m\u001b[0;34m)\u001b[0m\u001b[0;34m\u001b[0m\u001b[0;34m\u001b[0m\u001b[0m\n\u001b[0;32m----> 3\u001b[0;31m \u001b[0mprint\u001b[0m\u001b[0;34m(\u001b[0m\u001b[0mnum\u001b[0m\u001b[0;34m.\u001b[0m\u001b[0mextend\u001b[0m\u001b[0;34m(\u001b[0m\u001b[0;36m5\u001b[0m\u001b[0;34m)\u001b[0m\u001b[0;34m)\u001b[0m\u001b[0;34m\u001b[0m\u001b[0;34m\u001b[0m\u001b[0m\n\u001b[0m",
            "\u001b[0;31mTypeError\u001b[0m: 'int' object is not iterable"
          ]
        }
      ]
    },
    {
      "cell_type": "code",
      "metadata": {
        "colab": {
          "base_uri": "https://localhost:8080/"
        },
        "id": "IYgVb2livev0",
        "outputId": "bcd78406-0246-44fc-e6c5-f9470eab9ad3"
      },
      "source": [
        "# First 10 natural numbers using while loop\n",
        "\n",
        "i = 1\n",
        "while(i<=10):\n",
        "    print(i)\n",
        "    i += 1"
      ],
      "execution_count": 1,
      "outputs": [
        {
          "output_type": "stream",
          "name": "stdout",
          "text": [
            "1\n",
            "2\n",
            "3\n",
            "4\n",
            "5\n",
            "6\n",
            "7\n",
            "8\n",
            "9\n",
            "10\n"
          ]
        }
      ]
    },
    {
      "cell_type": "code",
      "metadata": {
        "colab": {
          "base_uri": "https://localhost:8080/"
        },
        "id": "mYNLYAEzv1n3",
        "outputId": "f2c1822b-7e52-4515-d2d2-a3c5dd351392"
      },
      "source": [
        "rows = 6\n",
        "\n",
        "for i in range(rows):\n",
        "    for j in range(i):\n",
        "        print(j+1, end=' ')\n",
        "    print('')"
      ],
      "execution_count": 4,
      "outputs": [
        {
          "output_type": "stream",
          "name": "stdout",
          "text": [
            "\n",
            "1 \n",
            "1 2 \n",
            "1 2 3 \n",
            "1 2 3 4 \n",
            "1 2 3 4 5 \n"
          ]
        }
      ]
    },
    {
      "cell_type": "code",
      "metadata": {
        "id": "WKHvWJyNyp-F"
      },
      "source": [
        ""
      ],
      "execution_count": null,
      "outputs": []
    },
    {
      "cell_type": "code",
      "metadata": {
        "colab": {
          "base_uri": "https://localhost:8080/"
        },
        "id": "is0yWVBhwFde",
        "outputId": "0380a54f-95a7-4920-cd4f-57693906dbec"
      },
      "source": [
        "num = int(input('Enter A Number: '))\n",
        "sum = 0\n",
        "\n",
        "for i in range(1, num+1):\n",
        "  sum += i\n",
        "\n",
        "print('Sum is ' + str(sum))"
      ],
      "execution_count": 10,
      "outputs": [
        {
          "output_type": "stream",
          "name": "stdout",
          "text": [
            "Enter A Number: 2\n",
            "Sum is 3\n"
          ]
        }
      ]
    },
    {
      "cell_type": "code",
      "metadata": {
        "colab": {
          "base_uri": "https://localhost:8080/"
        },
        "id": "JPSwZUgawvS2",
        "outputId": "d00808af-aa37-4a84-938b-31264a921cd6"
      },
      "source": [
        "num = int(input('Enter A Number: '))\n",
        "\n",
        "for i in range(1, 11):\n",
        "   print(num, 'x', i, '=', num*i)"
      ],
      "execution_count": 11,
      "outputs": [
        {
          "output_type": "stream",
          "name": "stdout",
          "text": [
            "Enter A Number: 10\n",
            "10 x 1 = 10\n",
            "10 x 2 = 20\n",
            "10 x 3 = 30\n",
            "10 x 4 = 40\n",
            "10 x 5 = 50\n",
            "10 x 6 = 60\n",
            "10 x 7 = 70\n",
            "10 x 8 = 80\n",
            "10 x 9 = 90\n",
            "10 x 10 = 100\n"
          ]
        }
      ]
    },
    {
      "cell_type": "code",
      "metadata": {
        "colab": {
          "base_uri": "https://localhost:8080/"
        },
        "id": "XVcNVFoXw6k4",
        "outputId": "c4b33d4b-bc47-45ac-fcac-256ad3f22e70"
      },
      "source": [
        "list1 = [12, 15, 32, 42, 55, 75, 122, 132, 150, 180, 200]\n",
        "\n",
        "for i in list1:\n",
        "  if(i > 150):\n",
        "    break\n",
        "  elif(i % 5 == 0):\n",
        "    print(i)"
      ],
      "execution_count": 20,
      "outputs": [
        {
          "output_type": "stream",
          "name": "stdout",
          "text": [
            "15\n",
            "55\n",
            "75\n",
            "150\n"
          ]
        }
      ]
    },
    {
      "cell_type": "code",
      "metadata": {
        "colab": {
          "base_uri": "https://localhost:8080/"
        },
        "id": "UJro286NyA3o",
        "outputId": "cd2f5f2f-1247-49ce-e1ea-8e37994624f2"
      },
      "source": [
        "num = int(input(\"Enter A Number: \"))\n",
        "count = 0\n",
        "\n",
        "while num != 0:\n",
        "    num //= 10\n",
        "    count += 1\n",
        "\n",
        "print(\"Number of digits: \" + str(count))"
      ],
      "execution_count": 23,
      "outputs": [
        {
          "output_type": "stream",
          "name": "stdout",
          "text": [
            "Enter A Number: 1234\n",
            "Number of digits: 4\n"
          ]
        }
      ]
    },
    {
      "cell_type": "code",
      "metadata": {
        "colab": {
          "base_uri": "https://localhost:8080/"
        },
        "id": "IRlEtV9YyrNr",
        "outputId": "f3befcd5-71bb-47ab-93fd-34dc3ac46c25"
      },
      "source": [
        "rows = 6\n",
        "\n",
        "for i in reversed(range(rows)):\n",
        "    for j in reversed(range(i)):\n",
        "        print(j+1, end=' ')\n",
        "    print('')"
      ],
      "execution_count": 26,
      "outputs": [
        {
          "output_type": "stream",
          "name": "stdout",
          "text": [
            "5 4 3 2 1 \n",
            "4 3 2 1 \n",
            "3 2 1 \n",
            "2 1 \n",
            "1 \n",
            "\n"
          ]
        }
      ]
    },
    {
      "cell_type": "code",
      "metadata": {
        "colab": {
          "base_uri": "https://localhost:8080/"
        },
        "id": "V8ABcVw1zBKd",
        "outputId": "6813a21f-e51c-467b-ed59-f1050e448259"
      },
      "source": [
        "list1 = [10, 20, 30, 40, 50]\n",
        "list2 = []\n",
        "\n",
        "for i in reversed(list1):\n",
        "  list2.append(i)\n",
        "\n",
        "print(list2)"
      ],
      "execution_count": 27,
      "outputs": [
        {
          "output_type": "stream",
          "name": "stdout",
          "text": [
            "[50, 40, 30, 20, 10]\n"
          ]
        }
      ]
    },
    {
      "cell_type": "code",
      "metadata": {
        "colab": {
          "base_uri": "https://localhost:8080/"
        },
        "id": "yKLATKQ8zW9g",
        "outputId": "9f67419e-c119-4f3d-efac-b13ad424b74e"
      },
      "source": [
        "for i in range(-10, 0):\n",
        "  print(i)"
      ],
      "execution_count": 29,
      "outputs": [
        {
          "output_type": "stream",
          "name": "stdout",
          "text": [
            "-10\n",
            "-9\n",
            "-8\n",
            "-7\n",
            "-6\n",
            "-5\n",
            "-4\n",
            "-3\n",
            "-2\n",
            "-1\n"
          ]
        }
      ]
    },
    {
      "cell_type": "code",
      "metadata": {
        "colab": {
          "base_uri": "https://localhost:8080/"
        },
        "id": "xBFKVYUFzr4n",
        "outputId": "1737830f-5d79-4501-89f4-e9df3054a4b7"
      },
      "source": [
        "for i in range(1,3):\n",
        "  print(i)\n",
        "else:\n",
        "  print('Done')"
      ],
      "execution_count": 30,
      "outputs": [
        {
          "output_type": "stream",
          "name": "stdout",
          "text": [
            "1\n",
            "2\n",
            "Done\n"
          ]
        }
      ]
    },
    {
      "cell_type": "code",
      "metadata": {
        "colab": {
          "base_uri": "https://localhost:8080/"
        },
        "id": "IeHSnlhVz7Mw",
        "outputId": "e30f71d4-bbd5-4846-d79d-c62c4574fa02"
      },
      "source": [
        "lower = 200\n",
        "upper = 230\n",
        "\n",
        "for num in range(lower, upper + 1):\n",
        "   # all prime numbers are greater than 1\n",
        "   if num > 1:\n",
        "       for i in range(2, num):\n",
        "           if (num % i) == 0:\n",
        "               break\n",
        "       else:\n",
        "           print(num)"
      ],
      "execution_count": 34,
      "outputs": [
        {
          "output_type": "stream",
          "name": "stdout",
          "text": [
            "211\n",
            "223\n",
            "227\n",
            "229\n"
          ]
        }
      ]
    },
    {
      "cell_type": "code",
      "metadata": {
        "colab": {
          "base_uri": "https://localhost:8080/"
        },
        "id": "CwGCTgA20cSn",
        "outputId": "165b1902-cafd-43f0-b447-6e10c5a4df1d"
      },
      "source": [
        "nterms = 10\n",
        "\n",
        "n1, n2 = 0, 1\n",
        "count = 0\n",
        "\n",
        "if nterms <= 0:\n",
        "   print(\"Please enter a positive integer\")\n",
        "elif nterms == 1:\n",
        "   print(n1)\n",
        "else:\n",
        "   print(\"Fibonacci sequence:\")\n",
        "   while count < nterms:\n",
        "       print(n1)\n",
        "       nth = n1 + n2\n",
        "       n1 = n2\n",
        "       n2 = nth\n",
        "       count += 1"
      ],
      "execution_count": 35,
      "outputs": [
        {
          "output_type": "stream",
          "name": "stdout",
          "text": [
            "Fibonacci sequence:\n",
            "0\n",
            "1\n",
            "1\n",
            "2\n",
            "3\n",
            "5\n",
            "8\n",
            "13\n",
            "21\n",
            "34\n"
          ]
        }
      ]
    },
    {
      "cell_type": "code",
      "metadata": {
        "colab": {
          "base_uri": "https://localhost:8080/"
        },
        "id": "Tzeh-zjF0sky",
        "outputId": "6971c817-7889-4eaf-f872-62b0fd363dd3"
      },
      "source": [
        "num = int(input(\"Enter a number: \"))\n",
        "\n",
        "factorial = 1\n",
        "\n",
        "if num < 0:\n",
        "   print(\"Sorry, factorial does not exist for negative numbers\")\n",
        "elif num == 0:\n",
        "   print(\"The factorial of 0 is 1\")\n",
        "else:\n",
        "   for i in range(1,num + 1):\n",
        "       factorial = factorial*i\n",
        "   print(\"The factorial of\", num,\"is\", factorial)"
      ],
      "execution_count": 36,
      "outputs": [
        {
          "output_type": "stream",
          "name": "stdout",
          "text": [
            "Enter a number: 7\n",
            "The factorial of 7 is 5040\n"
          ]
        }
      ]
    },
    {
      "cell_type": "code",
      "metadata": {
        "colab": {
          "base_uri": "https://localhost:8080/"
        },
        "id": "AToqJGTq1CMQ",
        "outputId": "d7604b58-15aa-4476-a5d3-a0ab05d04781"
      },
      "source": [
        "Number = int(input(\"Enter A Number: \"))\n",
        "\n",
        "Reverse = 0\n",
        "while(Number > 0):\n",
        "    Reminder = Number %10\n",
        "    Reverse = (Reverse *10) + Reminder\n",
        "    Number = Number //10\n",
        "\n",
        "print(\"\\n Reverse is = %d\" %Reverse)"
      ],
      "execution_count": 37,
      "outputs": [
        {
          "output_type": "stream",
          "name": "stdout",
          "text": [
            "Enter A Number: 12435\n",
            "\n",
            " Reverse is = 53421\n"
          ]
        }
      ]
    },
    {
      "cell_type": "code",
      "metadata": {
        "colab": {
          "base_uri": "https://localhost:8080/"
        },
        "id": "SMXMBiKf1NBC",
        "outputId": "bb80ef8e-b641-46c0-c5f2-62d0cdec8d7d"
      },
      "source": [
        "my_list = [10, 20, 30, 40, 50, 60, 70, 80, 90, 100]\n",
        "index = 0\n",
        "\n",
        "for i in my_list:\n",
        "  if(index%2!=0):\n",
        "    print(i)\n",
        "  index += 1"
      ],
      "execution_count": 41,
      "outputs": [
        {
          "output_type": "stream",
          "name": "stdout",
          "text": [
            "20\n",
            "40\n",
            "60\n",
            "80\n",
            "100\n"
          ]
        }
      ]
    },
    {
      "cell_type": "code",
      "metadata": {
        "colab": {
          "base_uri": "https://localhost:8080/"
        },
        "id": "phCjaYpA1o5q",
        "outputId": "d9fc916e-68a2-42e2-bb4f-bdfc3ffdbcd3"
      },
      "source": [
        "num = float(input(\"Enter A Number : \"))\n",
        "\n",
        "cube = num * num * num\n",
        "\n",
        "print(\"The Cube of a Given Number {0} is {1}\".format(num, cube))"
      ],
      "execution_count": 44,
      "outputs": [
        {
          "output_type": "stream",
          "name": "stdout",
          "text": [
            "Enter A Number : 3\n",
            "The Cube of a Given Number 3.0 is 27.0\n"
          ]
        }
      ]
    },
    {
      "cell_type": "code",
      "metadata": {
        "colab": {
          "base_uri": "https://localhost:8080/"
        },
        "id": "4nj06ImP2RZS",
        "outputId": "b9963683-576e-4ed9-c45a-e41693fab47d"
      },
      "source": [
        "import math\n",
        " \n",
        "def sumOfSeries( n ):\n",
        "    return 0.0246 * (math.pow(10, n) - 1 - (9 * n))\n",
        "\n",
        "n = int(input('Enter A Number: '))\n",
        "print(sumOfSeries(n))"
      ],
      "execution_count": 46,
      "outputs": [
        {
          "output_type": "stream",
          "name": "stdout",
          "text": [
            "Enter A Number: 5\n",
            "2458.8684\n"
          ]
        }
      ]
    },
    {
      "cell_type": "code",
      "metadata": {
        "colab": {
          "base_uri": "https://localhost:8080/"
        },
        "id": "LIbm18JP2qpl",
        "outputId": "5cf3946d-7e32-4347-eb96-d8b3bb839b67"
      },
      "source": [
        "rows = int(input(\"Enter the number of rows: \"))\n",
        "  \n",
        "for i in range(0, rows):  \n",
        "    for j in range(0, i + 1):  \n",
        "        print(\"*\", end=' ')  \n",
        "    print(\" \")  \n",
        "for i in range(rows, 0, -1):  \n",
        "    for j in range(0, i - 1):  \n",
        "        print(\"*\", end=' ')  \n",
        "    print(\" \")  "
      ],
      "execution_count": 49,
      "outputs": [
        {
          "output_type": "stream",
          "name": "stdout",
          "text": [
            "Enter the number of rows: 5\n",
            "*  \n",
            "* *  \n",
            "* * *  \n",
            "* * * *  \n",
            "* * * * *  \n",
            "* * * *  \n",
            "* * *  \n",
            "* *  \n",
            "*  \n",
            " \n"
          ]
        }
      ]
    }
  ]
}