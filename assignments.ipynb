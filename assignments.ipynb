{
  "nbformat": 4,
  "nbformat_minor": 0,
  "metadata": {
    "colab": {
      "name": "assignments.ipynb",
      "provenance": [],
      "authorship_tag": "ABX9TyNqKIUD7jvJmYOQDxs7SgXN",
      "include_colab_link": true
    },
    "kernelspec": {
      "name": "python3",
      "display_name": "Python 3"
    },
    "language_info": {
      "name": "python"
    }
  },
  "cells": [
    {
      "cell_type": "markdown",
      "metadata": {
        "id": "view-in-github",
        "colab_type": "text"
      },
      "source": [
        "<a href=\"https://colab.research.google.com/github/narayanvyas/Arduino-Bluetooth-Relay-Control-With-SoftwareSerial/blob/master/assignments.ipynb\" target=\"_parent\"><img src=\"https://colab.research.google.com/assets/colab-badge.svg\" alt=\"Open In Colab\"/></a>"
      ]
    },
    {
      "cell_type": "code",
      "metadata": {
        "colab": {
          "base_uri": "https://localhost:8080/"
        },
        "id": "U0xjv1jb8Qoi",
        "outputId": "0ebc7acb-8ea4-405f-ca39-91a47e02ec7d"
      },
      "source": [
        "a=[]\n",
        "print(a)"
      ],
      "execution_count": null,
      "outputs": [
        {
          "output_type": "stream",
          "name": "stdout",
          "text": [
            "[]\n"
          ]
        }
      ]
    },
    {
      "cell_type": "code",
      "metadata": {
        "colab": {
          "base_uri": "https://localhost:8080/"
        },
        "id": "4Qwp2SfA-gHV",
        "outputId": "444105cc-5272-4a6e-e8bf-a1cf98fdf5f8"
      },
      "source": [
        "L=[1,2,3,4]\n",
        "print(L[-2])"
      ],
      "execution_count": null,
      "outputs": [
        {
          "output_type": "stream",
          "name": "stdout",
          "text": [
            "3\n"
          ]
        }
      ]
    },
    {
      "cell_type": "code",
      "metadata": {
        "colab": {
          "base_uri": "https://localhost:8080/"
        },
        "id": "JzuoPsepL1LU",
        "outputId": "81ce5d54-6391-437f-d31a-503bae634e4f"
      },
      "source": [
        "# Find Area Of Circle\n",
        "\n",
        "from math import pi\n",
        "\n",
        "r = float(input('Enter Radius: '))\n",
        "area = round((pi * r * r), 3)\n",
        "print('Area of Circle is ' + str(area))\n"
      ],
      "execution_count": null,
      "outputs": [
        {
          "output_type": "stream",
          "name": "stdout",
          "text": [
            "Enter Radius: 3\n",
            "Area of Circle is: 28.274\n"
          ]
        }
      ]
    },
    {
      "cell_type": "code",
      "metadata": {
        "colab": {
          "base_uri": "https://localhost:8080/"
        },
        "id": "yS-yXLoML1V6",
        "outputId": "182f19e7-a4bb-48e2-ebc2-45de8de91d9a"
      },
      "source": [
        "# Take Input & Convert them to list and tuples\n",
        "\n",
        "numbers = input('Enter Some Comma Saperated Numbers: ')\n",
        "numbersList = numbers.split(',')\n",
        "numbersTuple = tuple(numbersList)\n",
        "\n",
        "print(numbersList)\n",
        "print(numbersTuple)"
      ],
      "execution_count": null,
      "outputs": [
        {
          "output_type": "stream",
          "name": "stdout",
          "text": [
            "Enter Some Comma Saperated Numbers: 1,2,2,2,3,4,5,6\n",
            "['1', '2', '2', '2', '3', '4', '5', '6']\n",
            "('1', '2', '2', '2', '3', '4', '5', '6')\n"
          ]
        }
      ]
    },
    {
      "cell_type": "code",
      "metadata": {
        "colab": {
          "base_uri": "https://localhost:8080/"
        },
        "id": "jB__AI7jODlo",
        "outputId": "d51724e4-a9ab-4e1f-beb6-583655ffd704"
      },
      "source": [
        "# Accept filename and print extendsion\n",
        "\n",
        "fileName = input('Enter Filename With Extension: ')\n",
        "dotCount = fileName.count('.')\n",
        "\n",
        "if(dotCount != 1):\n",
        "  print('Please Enter A Valid Filename')\n",
        "else:\n",
        "  ext = fileName.split('.')[-1]\n",
        "  print('Extension is .' + ext)"
      ],
      "execution_count": null,
      "outputs": [
        {
          "output_type": "stream",
          "name": "stdout",
          "text": [
            "Enter Filename With Extension: hey\n",
            "Please Enter A Valid Filename\n"
          ]
        }
      ]
    },
    {
      "cell_type": "code",
      "metadata": {
        "colab": {
          "base_uri": "https://localhost:8080/"
        },
        "id": "iUrcrKf4PGMx",
        "outputId": "e4fc25de-9081-4c7f-809c-630fa925a90a"
      },
      "source": [
        "# Display First and Last color\n",
        "\n",
        "fruits_list = [\"Apple\",\"Mango\",\"Cherry\" ,\"Banana\"]\n",
        "print('First fruit is ' + fruits_list[0])\n",
        "print('Last fruit is ' + fruits_list[-1])"
      ],
      "execution_count": null,
      "outputs": [
        {
          "output_type": "stream",
          "name": "stdout",
          "text": [
            "First fruit is Apple\n",
            "Last fruit is Banana\n"
          ]
        }
      ]
    },
    {
      "cell_type": "code",
      "metadata": {
        "colab": {
          "base_uri": "https://localhost:8080/"
        },
        "id": "C-eVONhlPkdR",
        "outputId": "2ee5f3e2-7c11-4587-a694-6bfcfac9e75f"
      },
      "source": [
        "# Square root of given number\n",
        "\n",
        "import math\n",
        "\n",
        "num = float(input('Enter A Number: '))\n",
        "sqr = round(math.sqrt(num), 3)\n",
        "print('Square root is ' + str(sqr))"
      ],
      "execution_count": null,
      "outputs": [
        {
          "output_type": "stream",
          "name": "stdout",
          "text": [
            "Enter A Number: 9\n",
            "Square root is 3.0\n"
          ]
        }
      ]
    },
    {
      "cell_type": "code",
      "metadata": {
        "colab": {
          "base_uri": "https://localhost:8080/"
        },
        "id": "y5HS7asIa9RX",
        "outputId": "d2c371c2-d1ab-4047-d2e5-1f9da1bc908d"
      },
      "source": [
        "# Area of Triangle\n",
        "a = float(input('Enter First Side: '))  \n",
        "b = float(input('Enter Second Side: '))  \n",
        "c = float(input('Enter Third Side: '))  \n",
        "  \n",
        "# calculate the semi-perimeter  \n",
        "s = (a + b + c) / 2  \n",
        "  \n",
        "# calculate the area  \n",
        "area = (s*(s-a)*(s-b)*(s-c)) ** 0.5  \n",
        "print('The area of the triangle is %0.2f' %area)   "
      ],
      "execution_count": 31,
      "outputs": [
        {
          "output_type": "stream",
          "name": "stdout",
          "text": [
            "Enter First Side: 3\n",
            "Enter Second Side: 4\n",
            "Enter Third Side: 5\n",
            "The area of the triangle is 6.00\n"
          ]
        }
      ]
    },
    {
      "cell_type": "code",
      "metadata": {
        "colab": {
          "base_uri": "https://localhost:8080/"
        },
        "id": "yhsFEOBbbJ25",
        "outputId": "9aff8b04-7d61-4976-9b07-bd6bdb69f49b"
      },
      "source": [
        "# Swap two variables without using third variable\n",
        "\n",
        "num1 = int(input('Enter First Number: '))\n",
        "num2 = int(input('Enter Second Number: '))\n",
        "\n",
        "num2 = num1 + num2\n",
        "num1 = num2 - num1\n",
        "num2 = num2 - num1\n",
        "\n",
        "print('First Number is ' + str(num1) + ' and Second Number is ' + str(num2))"
      ],
      "execution_count": 39,
      "outputs": [
        {
          "output_type": "stream",
          "name": "stdout",
          "text": [
            "Enter First Number: 24\n",
            "Enter Second Number: 87\n",
            "First Number is 87 and Second Number is 24\n"
          ]
        }
      ]
    },
    {
      "cell_type": "code",
      "metadata": {
        "colab": {
          "base_uri": "https://localhost:8080/"
        },
        "id": "paij26tXdF8f",
        "outputId": "ca046886-054b-40a9-eb79-8be382008ed5"
      },
      "source": [
        "# Convert temperature in celsius to fahrenheit\n",
        "\n",
        "celsius = float(input('Enter Temperature in Celsius: '))\n",
        "fahrenheit = (celsius * 1.8) + 32\n",
        "\n",
        "print('%0.1f\\N{DEGREE SIGN} Celsius is equal to %0.1f\\N{DEGREE SIGN} Fahrenheit' %(celsius, fahrenheit))"
      ],
      "execution_count": 45,
      "outputs": [
        {
          "output_type": "stream",
          "name": "stdout",
          "text": [
            "Enter Temperature in Celsius: 37.5\n",
            "37.5° Celsius is equal to 99.5° Fahrenheit\n"
          ]
        }
      ]
    },
    {
      "cell_type": "code",
      "metadata": {
        "colab": {
          "base_uri": "https://localhost:8080/",
          "height": 215
        },
        "id": "8Vfa3IQ4dogh",
        "outputId": "6ea39ba5-1f8d-4820-acc4-446584451bfa"
      },
      "source": [
        "num = [1, 2, 3, 4]\n",
        "print(num.append(5))\n",
        "print(num.extend(5))"
      ],
      "execution_count": 47,
      "outputs": [
        {
          "output_type": "stream",
          "name": "stdout",
          "text": [
            "None\n"
          ]
        },
        {
          "output_type": "error",
          "ename": "TypeError",
          "evalue": "ignored",
          "traceback": [
            "\u001b[0;31m---------------------------------------------------------------------------\u001b[0m",
            "\u001b[0;31mTypeError\u001b[0m                                 Traceback (most recent call last)",
            "\u001b[0;32m<ipython-input-47-60dac63e1575>\u001b[0m in \u001b[0;36m<module>\u001b[0;34m()\u001b[0m\n\u001b[1;32m      1\u001b[0m \u001b[0mnum\u001b[0m \u001b[0;34m=\u001b[0m \u001b[0;34m[\u001b[0m\u001b[0;36m1\u001b[0m\u001b[0;34m,\u001b[0m \u001b[0;36m2\u001b[0m\u001b[0;34m,\u001b[0m \u001b[0;36m3\u001b[0m\u001b[0;34m,\u001b[0m \u001b[0;36m4\u001b[0m\u001b[0;34m]\u001b[0m\u001b[0;34m\u001b[0m\u001b[0;34m\u001b[0m\u001b[0m\n\u001b[1;32m      2\u001b[0m \u001b[0mprint\u001b[0m\u001b[0;34m(\u001b[0m\u001b[0mnum\u001b[0m\u001b[0;34m.\u001b[0m\u001b[0mappend\u001b[0m\u001b[0;34m(\u001b[0m\u001b[0;36m5\u001b[0m\u001b[0;34m)\u001b[0m\u001b[0;34m)\u001b[0m\u001b[0;34m\u001b[0m\u001b[0;34m\u001b[0m\u001b[0m\n\u001b[0;32m----> 3\u001b[0;31m \u001b[0mprint\u001b[0m\u001b[0;34m(\u001b[0m\u001b[0mnum\u001b[0m\u001b[0;34m.\u001b[0m\u001b[0mextend\u001b[0m\u001b[0;34m(\u001b[0m\u001b[0;36m5\u001b[0m\u001b[0;34m)\u001b[0m\u001b[0;34m)\u001b[0m\u001b[0;34m\u001b[0m\u001b[0;34m\u001b[0m\u001b[0m\n\u001b[0m",
            "\u001b[0;31mTypeError\u001b[0m: 'int' object is not iterable"
          ]
        }
      ]
    }
  ]
}